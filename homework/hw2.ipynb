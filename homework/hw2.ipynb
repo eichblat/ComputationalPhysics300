{
 "cells": [
  {
   "cell_type": "code",
   "execution_count": null,
   "metadata": {
    "scrolled": true
   },
   "outputs": [],
   "source": [
    "#Einstein's model of a solid\n",
    "def factorial(n):\n",
    "    n = int(n)\n",
    "    f = 1.0\n",
    "    for i in range(1,n+1):\n",
    "        f *= i\n",
    "    return f\n",
    "#defining a factorial\n",
    "\n",
    "def multiplicity(N,q):\n",
    "    return factorial(q + N - 1)/(factorial(q)*factorial(N - 1))\n",
    "#Defining the equation for the number of oscilators and energy \n",
    "                             \n",
    "N=int(input(\"type a value for N: \"))\n",
    "q=int(input(\"type a value for q: \"))\n",
    "    \n",
    "for n in range(N+1):\n",
    "    print(\"When N is:\", N ,\"Wehn q is: \", q ,\"The multiplicity is\", multiplicity(N,q))\n"
   ]
  },
  {
   "cell_type": "code",
   "execution_count": null,
   "metadata": {},
   "outputs": [],
   "source": []
  }
 ],
 "metadata": {
  "kernelspec": {
   "display_name": "Python 3",
   "language": "python",
   "name": "python3"
  },
  "language_info": {
   "codemirror_mode": {
    "name": "ipython",
    "version": 3
   },
   "file_extension": ".py",
   "mimetype": "text/x-python",
   "name": "python",
   "nbconvert_exporter": "python",
   "pygments_lexer": "ipython3",
   "version": "3.8.3"
  }
 },
 "nbformat": 4,
 "nbformat_minor": 4
}
