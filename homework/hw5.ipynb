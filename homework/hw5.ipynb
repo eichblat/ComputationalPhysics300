{
 "cells": [
  {
   "cell_type": "code",
   "execution_count": 12,
   "metadata": {},
   "outputs": [],
   "source": [
    "#import libraries\n",
    "import numpy as np\n",
    "import matplotlib.pyplot as plt\n",
    "\n",
    "#define simpsons rule\n",
    "def simpsons(start, end, parts, plot=True):\n",
    "    f = lambda x: np.exp(-x**2)\n",
    "    deltax = (end-start)/parts\n",
    "    resultsx = np.linspace(start, end, parts+1)\n",
    "    resultsy = f(resultsx)\n",
    "    \n",
    "    area = np.empty([parts], float)\n",
    "    for i in range(parts):\n",
    "        if i == 0 or i == parts:\n",
    "            coeff = 1/3\n",
    "        elif i%2 == 1:\n",
    "            coeff = 4/3\n",
    "        else:\n",
    "            coeff = 2/3\n",
    "        \n",
    "        \n",
    "    if plot is True:\n",
    "        x = np.linspace(start, end, 100)\n",
    "        y = f(x)\n",
    "        plt.plot(x, y, 'b')\n",
    "        plt.xlim([start, end])\n",
    "        plt.ylim([min(y),max(y)])\n",
    "        plt.show()\n",
    "        \n",
    "        print(\"The area under the curve:\")\n",
    "        return sum(area)"
   ]
  },
  {
   "cell_type": "code",
   "execution_count": 13,
   "metadata": {},
   "outputs": [
    {
     "data": {
      "image/png": "[encoded data removed]",
      "text/plain": [
       "<Figure size 432x288 with 1 Axes>"
      ]
     },
     "metadata": {
      "needs_background": "light"
     },
     "output_type": "display_data"
    },
    {
     "name": "stdout",
     "output_type": "stream",
     "text": [
      "The area under the curve:\n"
     ]
    },
    {
     "data": {
      "text/plain": [
       "-2995.501491000002"
      ]
     },
     "execution_count": 13,
     "metadata": {},
     "output_type": "execute_result"
    }
   ],
   "source": [
    "simpsons(0, 3, 1000)"
   ]
  },
  {
   "cell_type": "code",
   "execution_count": 10,
   "metadata": {},
   "outputs": [],
   "source": [
    "import numpy as np\n",
    "import matplotlib.pyplot as plt\n",
    "\n",
    "def Trapezoid(start, end, parts, plot=1):\n",
    "   \n",
    "\n",
    "   "
   ]
  },
  {
   "cell_type": "code",
   "execution_count": null,
   "metadata": {},
   "outputs": [],
   "source": []
  },
  {
   "cell_type": "code",
   "execution_count": null,
   "metadata": {},
   "outputs": [],
   "source": [
    "import numpy as np\n",
    "import matplotlib.pyplot as plt\n",
    "\n",
    "def Rectangle(start, end, parts, plot=1):\n",
    "    \n",
    "    \n",
    "    "
   ]
  }
 ],
 "metadata": {
  "kernelspec": {
   "display_name": "Python 3",
   "language": "python",
   "name": "python3"
  },
  "language_info": {
   "codemirror_mode": {
    "name": "ipython",
    "version": 3
   },
   "file_extension": ".py",
   "mimetype": "text/x-python",
   "name": "python",
   "nbconvert_exporter": "python",
   "pygments_lexer": "ipython3",
   "version": "3.8.3"
  }
 },
 "nbformat": 4,
 "nbformat_minor": 4
}
