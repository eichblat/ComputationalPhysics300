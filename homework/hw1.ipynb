{
 "cells": [
  {
   "cell_type": "code",
   "execution_count": 2,
   "metadata": {},
   "outputs": [
    {
     "name": "stdout",
     "output_type": "stream",
     "text": [
      "series for m = 1\n",
      "n= 2    121.5436037678517 nm\n",
      "n= 3    102.55241567912488 nm\n",
      "n= 4    97.23488301428137 nm\n",
      "n= 5    94.95594044363415 nm\n",
      "n= 6    93.76220862091418 nm\n",
      "series for m = 2\n",
      "n= 3    656.3354603463993 nm\n",
      "n= 4    486.1744150714068 nm\n",
      "n= 5    434.084299170899 nm\n",
      "n= 6    410.2096627164995 nm\n",
      "n= 7    397.04243897498225 nm\n",
      "series for m = 3\n",
      "n= 4    1875.2441724182836 nm\n",
      "n= 5    1281.9051959890612 nm\n",
      "n= 6    1093.8924339106654 nm\n",
      "n= 7    1005.013673655424 nm\n",
      "n= 8    954.6697605038536 nm\n"
     ]
    }
   ],
   "source": [
    "R = 1.097e-2\n",
    "for m in [1,2,3]:\n",
    "    print (\"series for m =\",m)\n",
    "    for k in [1,2,3,4,5]:\n",
    "        n = m + k\n",
    "        invlambda = R*(1/m**2-1/n**2)\n",
    "        print(\"n=\",n, \"  \", 1/invlambda, \"nm\")"
   ]
  },
  {
   "cell_type": "code",
   "execution_count": null,
   "metadata": {},
   "outputs": [],
   "source": []
  }
 ],
 "metadata": {
  "kernelspec": {
   "display_name": "Python 3",
   "language": "python",
   "name": "python3"
  },
  "language_info": {
   "codemirror_mode": {
    "name": "ipython",
    "version": 3
   },
   "file_extension": ".py",
   "mimetype": "text/x-python",
   "name": "python",
   "nbconvert_exporter": "python",
   "pygments_lexer": "ipython3",
   "version": "3.8.3"
  }
 },
 "nbformat": 4,
 "nbformat_minor": 4
}
